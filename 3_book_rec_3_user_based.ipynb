{
  "cells": [
    {
      "cell_type": "markdown",
      "metadata": {
        "id": "6I2fbF7h7HzP"
      },
      "source": [
        "# User-based recommender\n",
        "User-based recommenders are like having a knowledgeable friend who knows your preferences inside out and suggests things tailored specifically to your taste. These recommenders analyse your past interactions, such as previous purchases or ratings, to find users with similar preferences and recommend items they have enjoyed. By leveraging the wisdom of like-minded users, user-based recommenders aim to provide personalised recommendations that align with your individual interests. They excel at capturing the nuances of your preferences and offering suggestions that are more tailored to your unique taste. However, it's important to keep in mind that user-based recommenders may have limitations when there is limited data available or when users' preferences change over time."
      ]
    },
    {
      "cell_type": "markdown",
      "metadata": {
        "id": "c1G0zcnO7w48"
      },
      "source": [
        "---\n",
        "## 1.&nbsp;Import libraries and files 💾\n",
        "We'll be using the same book ratings csv as in the Popularity and Item-based recommender notebooks."
      ]
    },
    {
      "cell_type": "code",
      "execution_count": 1,
      "metadata": {
        "id": "lIYdn1woOS1n"
      },
      "outputs": [],
      "source": [
        "import pandas as pd"
      ]
    },
    {
      "cell_type": "code",
      "execution_count": 2,
      "metadata": {
        "id": "i5aN4HjngSEM"
      },
      "outputs": [],
      "source": [
        "url = 'https://drive.google.com/file/d/1yFwxNVF0MuAsiFTAZMfoVGt1nIOatByg/view?usp=sharing'\n",
        "path = 'https://drive.google.com/uc?id='+url.split('/')[-2]\n",
        "df = pd.read_csv(path)"
      ]
    },
    {
      "cell_type": "code",
      "execution_count": 9,
      "metadata": {},
      "outputs": [],
      "source": [
        "import pandas as pd\n",
        "\n",
        "def gd_path(file_id):\n",
        "    return f\"https://drive.google.com/uc?export=download&id={file_id}\"\n",
        "\n",
        "\n",
        "files_id = {\n",
        "    'links': \"1GR8IQ2OXsFI8MNmv4bQIV1XXkq7n56MB\",\n",
        "    'movies': \"1PDuCaAhhVTRLYdftMr6VqX23crMqB_qg\",\n",
        "    'rating': \"1F4_-HBPBSySMjxdGxlykWVjvVn9AJ0BS\",\n",
        "    'tags': \"1bH6HhZfqLT0JGqYxyRLQAk7UIpnYj4x4\"\n",
        "    }\n",
        "\n",
        "\n",
        "links = pd.read_csv(gd_path(files_id['links']), sep=\",\")\n",
        "movies = pd.read_csv(gd_path(files_id['movies']), sep=\",\")\n",
        "rating = pd.read_csv(gd_path(files_id['rating']), sep=\",\")\n",
        "tags = pd.read_csv(gd_path(files_id['tags']), sep=\",\")"
      ]
    },
    {
      "cell_type": "code",
      "execution_count": 56,
      "metadata": {},
      "outputs": [
        {
          "data": {
            "text/html": [
              "<div>\n",
              "<style scoped>\n",
              "    .dataframe tbody tr th:only-of-type {\n",
              "        vertical-align: middle;\n",
              "    }\n",
              "\n",
              "    .dataframe tbody tr th {\n",
              "        vertical-align: top;\n",
              "    }\n",
              "\n",
              "    .dataframe thead th {\n",
              "        text-align: right;\n",
              "    }\n",
              "</style>\n",
              "<table border=\"1\" class=\"dataframe\">\n",
              "  <thead>\n",
              "    <tr style=\"text-align: right;\">\n",
              "      <th></th>\n",
              "      <th>movieId</th>\n",
              "      <th>title</th>\n",
              "      <th>genres</th>\n",
              "    </tr>\n",
              "  </thead>\n",
              "  <tbody>\n",
              "    <tr>\n",
              "      <th>0</th>\n",
              "      <td>1</td>\n",
              "      <td>Toy Story (1995)</td>\n",
              "      <td>Adventure|Animation|Children|Comedy|Fantasy</td>\n",
              "    </tr>\n",
              "    <tr>\n",
              "      <th>1</th>\n",
              "      <td>2</td>\n",
              "      <td>Jumanji (1995)</td>\n",
              "      <td>Adventure|Children|Fantasy</td>\n",
              "    </tr>\n",
              "    <tr>\n",
              "      <th>2</th>\n",
              "      <td>3</td>\n",
              "      <td>Grumpier Old Men (1995)</td>\n",
              "      <td>Comedy|Romance</td>\n",
              "    </tr>\n",
              "    <tr>\n",
              "      <th>3</th>\n",
              "      <td>4</td>\n",
              "      <td>Waiting to Exhale (1995)</td>\n",
              "      <td>Comedy|Drama|Romance</td>\n",
              "    </tr>\n",
              "    <tr>\n",
              "      <th>4</th>\n",
              "      <td>5</td>\n",
              "      <td>Father of the Bride Part II (1995)</td>\n",
              "      <td>Comedy</td>\n",
              "    </tr>\n",
              "    <tr>\n",
              "      <th>...</th>\n",
              "      <td>...</td>\n",
              "      <td>...</td>\n",
              "      <td>...</td>\n",
              "    </tr>\n",
              "    <tr>\n",
              "      <th>9737</th>\n",
              "      <td>193581</td>\n",
              "      <td>Black Butler: Book of the Atlantic (2017)</td>\n",
              "      <td>Action|Animation|Comedy|Fantasy</td>\n",
              "    </tr>\n",
              "    <tr>\n",
              "      <th>9738</th>\n",
              "      <td>193583</td>\n",
              "      <td>No Game No Life: Zero (2017)</td>\n",
              "      <td>Animation|Comedy|Fantasy</td>\n",
              "    </tr>\n",
              "    <tr>\n",
              "      <th>9739</th>\n",
              "      <td>193585</td>\n",
              "      <td>Flint (2017)</td>\n",
              "      <td>Drama</td>\n",
              "    </tr>\n",
              "    <tr>\n",
              "      <th>9740</th>\n",
              "      <td>193587</td>\n",
              "      <td>Bungo Stray Dogs: Dead Apple (2018)</td>\n",
              "      <td>Action|Animation</td>\n",
              "    </tr>\n",
              "    <tr>\n",
              "      <th>9741</th>\n",
              "      <td>193609</td>\n",
              "      <td>Andrew Dice Clay: Dice Rules (1991)</td>\n",
              "      <td>Comedy</td>\n",
              "    </tr>\n",
              "  </tbody>\n",
              "</table>\n",
              "<p>9742 rows × 3 columns</p>\n",
              "</div>"
            ],
            "text/plain": [
              "      movieId                                      title  \\\n",
              "0           1                           Toy Story (1995)   \n",
              "1           2                             Jumanji (1995)   \n",
              "2           3                    Grumpier Old Men (1995)   \n",
              "3           4                   Waiting to Exhale (1995)   \n",
              "4           5         Father of the Bride Part II (1995)   \n",
              "...       ...                                        ...   \n",
              "9737   193581  Black Butler: Book of the Atlantic (2017)   \n",
              "9738   193583               No Game No Life: Zero (2017)   \n",
              "9739   193585                               Flint (2017)   \n",
              "9740   193587        Bungo Stray Dogs: Dead Apple (2018)   \n",
              "9741   193609        Andrew Dice Clay: Dice Rules (1991)   \n",
              "\n",
              "                                           genres  \n",
              "0     Adventure|Animation|Children|Comedy|Fantasy  \n",
              "1                      Adventure|Children|Fantasy  \n",
              "2                                  Comedy|Romance  \n",
              "3                            Comedy|Drama|Romance  \n",
              "4                                          Comedy  \n",
              "...                                           ...  \n",
              "9737              Action|Animation|Comedy|Fantasy  \n",
              "9738                     Animation|Comedy|Fantasy  \n",
              "9739                                        Drama  \n",
              "9740                             Action|Animation  \n",
              "9741                                       Comedy  \n",
              "\n",
              "[9742 rows x 3 columns]"
            ]
          },
          "execution_count": 56,
          "metadata": {},
          "output_type": "execute_result"
        }
      ],
      "source": [
        "movies"
      ]
    },
    {
      "cell_type": "code",
      "execution_count": 25,
      "metadata": {},
      "outputs": [
        {
          "data": {
            "text/html": [
              "<div>\n",
              "<style scoped>\n",
              "    .dataframe tbody tr th:only-of-type {\n",
              "        vertical-align: middle;\n",
              "    }\n",
              "\n",
              "    .dataframe tbody tr th {\n",
              "        vertical-align: top;\n",
              "    }\n",
              "\n",
              "    .dataframe thead th {\n",
              "        text-align: right;\n",
              "    }\n",
              "</style>\n",
              "<table border=\"1\" class=\"dataframe\">\n",
              "  <thead>\n",
              "    <tr style=\"text-align: right;\">\n",
              "      <th></th>\n",
              "      <th>userId</th>\n",
              "      <th>movieId</th>\n",
              "      <th>rating</th>\n",
              "      <th>timestamp</th>\n",
              "    </tr>\n",
              "  </thead>\n",
              "  <tbody>\n",
              "    <tr>\n",
              "      <th>count</th>\n",
              "      <td>100836.000000</td>\n",
              "      <td>100836.000000</td>\n",
              "      <td>100836.000000</td>\n",
              "      <td>1.008360e+05</td>\n",
              "    </tr>\n",
              "    <tr>\n",
              "      <th>mean</th>\n",
              "      <td>326.127564</td>\n",
              "      <td>19435.295718</td>\n",
              "      <td>3.501557</td>\n",
              "      <td>1.205946e+09</td>\n",
              "    </tr>\n",
              "    <tr>\n",
              "      <th>std</th>\n",
              "      <td>182.618491</td>\n",
              "      <td>35530.987199</td>\n",
              "      <td>1.042529</td>\n",
              "      <td>2.162610e+08</td>\n",
              "    </tr>\n",
              "    <tr>\n",
              "      <th>min</th>\n",
              "      <td>1.000000</td>\n",
              "      <td>1.000000</td>\n",
              "      <td>0.500000</td>\n",
              "      <td>8.281246e+08</td>\n",
              "    </tr>\n",
              "    <tr>\n",
              "      <th>25%</th>\n",
              "      <td>177.000000</td>\n",
              "      <td>1199.000000</td>\n",
              "      <td>3.000000</td>\n",
              "      <td>1.019124e+09</td>\n",
              "    </tr>\n",
              "    <tr>\n",
              "      <th>50%</th>\n",
              "      <td>325.000000</td>\n",
              "      <td>2991.000000</td>\n",
              "      <td>3.500000</td>\n",
              "      <td>1.186087e+09</td>\n",
              "    </tr>\n",
              "    <tr>\n",
              "      <th>75%</th>\n",
              "      <td>477.000000</td>\n",
              "      <td>8122.000000</td>\n",
              "      <td>4.000000</td>\n",
              "      <td>1.435994e+09</td>\n",
              "    </tr>\n",
              "    <tr>\n",
              "      <th>max</th>\n",
              "      <td>610.000000</td>\n",
              "      <td>193609.000000</td>\n",
              "      <td>5.000000</td>\n",
              "      <td>1.537799e+09</td>\n",
              "    </tr>\n",
              "  </tbody>\n",
              "</table>\n",
              "</div>"
            ],
            "text/plain": [
              "              userId        movieId         rating     timestamp\n",
              "count  100836.000000  100836.000000  100836.000000  1.008360e+05\n",
              "mean      326.127564   19435.295718       3.501557  1.205946e+09\n",
              "std       182.618491   35530.987199       1.042529  2.162610e+08\n",
              "min         1.000000       1.000000       0.500000  8.281246e+08\n",
              "25%       177.000000    1199.000000       3.000000  1.019124e+09\n",
              "50%       325.000000    2991.000000       3.500000  1.186087e+09\n",
              "75%       477.000000    8122.000000       4.000000  1.435994e+09\n",
              "max       610.000000  193609.000000       5.000000  1.537799e+09"
            ]
          },
          "execution_count": 25,
          "metadata": {},
          "output_type": "execute_result"
        }
      ],
      "source": [
        "rating.describe()"
      ]
    },
    {
      "cell_type": "markdown",
      "metadata": {
        "id": "ct7pyuHM8D5i"
      },
      "source": [
        "---\n",
        "## 2.&nbsp;The Surprise library 🎉\n",
        "[Surprise](https://surpriselib.com/) is a versatile and user-friendly library that provides a wide range of collaborative filtering algorithms and evaluation metrics for building recommendation systems. With Surprise, we can effortlessly implement user-based recommenders.\n",
        "\n",
        "However, it's worth noting that while we will be focusing on Surprise as our tool of choice, it's important to understand that there are alternative ways to build user-based recommenders, including manual implementation of algorithms. By introducing you to Surprise, we aim to showcase the potential and convenience of using dedicated machine learning libraries, but it's always beneficial to have a comprehensive understanding of the underlying concepts and techniques, such as what we learnt manually building an item-based recommender."
      ]
    },
    {
      "cell_type": "markdown",
      "metadata": {
        "id": "ZOgbfoX1hRoT"
      },
      "source": [
        "Install Surprise:\n",
        " - Since Colab doesn't have surprise pre-installed, you'll need to perform this step at the beginning of each session on Colab\n",
        " - If you're working locally, you'll only need to install once"
      ]
    },
    {
      "cell_type": "code",
      "execution_count": 15,
      "metadata": {
        "id": "VcAxB6oCguCy"
      },
      "outputs": [],
      "source": [
        "#%%capture\n",
        "#pip install scikit-surprise"
      ]
    },
    {
      "cell_type": "markdown",
      "metadata": {
        "id": "z7AHVLt35NJp"
      },
      "source": [
        "Import the necessary modules:"
      ]
    },
    {
      "cell_type": "code",
      "execution_count": 16,
      "metadata": {
        "id": "Kaxf2UlNh5CD"
      },
      "outputs": [],
      "source": [
        "from surprise import Reader, Dataset, KNNBasic, accuracy\n",
        "from surprise.model_selection import train_test_split"
      ]
    },
    {
      "cell_type": "markdown",
      "metadata": {
        "id": "JvSscnDdEBRB"
      },
      "source": [
        "### 2.1.&nbsp;Preparing the data\n",
        "Preparing data is a crucial step in building a model with Surprise. The Reader class acts as a guide for the library to understand the structure and format of the data. It provides a convenient way to parse and interpret the dataset by specifying the rating scale and other relevant information.\n",
        "\n",
        "In addition to the Reader, Surprise employs the Dataset class, which serves as a container for our data. This class enables us to organise, manipulate, and analyse the dataset effectively. By utilising the Dataset class, we can conveniently load data from various sources, such as CSV files or Pandas DataFrames, and transform it into a format suitable for Surprise. The Dataset class plays a crucial role in facilitating seamless integration between the data and the library, ensuring that the data is prepared and structured in a way that allows us to apply collaborative filtering algorithms and generate meaningful recommendations."
      ]
    },
    {
      "cell_type": "markdown",
      "metadata": {
        "id": "74io2mIDG-UV"
      },
      "source": [
        "When working with the Surprise library, it is important to note that the expected file format assumes a single rating per line. Each line in the file should adhere to the structure below to ensure compatibility with the library.\n",
        "\n",
        "> user | item | rating | [timestamp]"
      ]
    },
    {
      "cell_type": "code",
      "execution_count": 27,
      "metadata": {
        "id": "4QOMSBCM5UI7"
      },
      "outputs": [],
      "source": [
        "data = rating.drop(columns='timestamp')"
      ]
    },
    {
      "cell_type": "code",
      "execution_count": 28,
      "metadata": {
        "colab": {
          "base_uri": "https://localhost:8080/",
          "height": 423
        },
        "id": "duZ1huDJ0zq4",
        "outputId": "472f1bd7-3d0b-4e26-bbbb-372f903a113b"
      },
      "outputs": [
        {
          "data": {
            "text/html": [
              "<div>\n",
              "<style scoped>\n",
              "    .dataframe tbody tr th:only-of-type {\n",
              "        vertical-align: middle;\n",
              "    }\n",
              "\n",
              "    .dataframe tbody tr th {\n",
              "        vertical-align: top;\n",
              "    }\n",
              "\n",
              "    .dataframe thead th {\n",
              "        text-align: right;\n",
              "    }\n",
              "</style>\n",
              "<table border=\"1\" class=\"dataframe\">\n",
              "  <thead>\n",
              "    <tr style=\"text-align: right;\">\n",
              "      <th></th>\n",
              "      <th>userId</th>\n",
              "      <th>movieId</th>\n",
              "      <th>rating</th>\n",
              "    </tr>\n",
              "  </thead>\n",
              "  <tbody>\n",
              "    <tr>\n",
              "      <th>0</th>\n",
              "      <td>1</td>\n",
              "      <td>1</td>\n",
              "      <td>4.0</td>\n",
              "    </tr>\n",
              "    <tr>\n",
              "      <th>1</th>\n",
              "      <td>1</td>\n",
              "      <td>3</td>\n",
              "      <td>4.0</td>\n",
              "    </tr>\n",
              "    <tr>\n",
              "      <th>2</th>\n",
              "      <td>1</td>\n",
              "      <td>6</td>\n",
              "      <td>4.0</td>\n",
              "    </tr>\n",
              "    <tr>\n",
              "      <th>3</th>\n",
              "      <td>1</td>\n",
              "      <td>47</td>\n",
              "      <td>5.0</td>\n",
              "    </tr>\n",
              "    <tr>\n",
              "      <th>4</th>\n",
              "      <td>1</td>\n",
              "      <td>50</td>\n",
              "      <td>5.0</td>\n",
              "    </tr>\n",
              "    <tr>\n",
              "      <th>...</th>\n",
              "      <td>...</td>\n",
              "      <td>...</td>\n",
              "      <td>...</td>\n",
              "    </tr>\n",
              "    <tr>\n",
              "      <th>100831</th>\n",
              "      <td>610</td>\n",
              "      <td>166534</td>\n",
              "      <td>4.0</td>\n",
              "    </tr>\n",
              "    <tr>\n",
              "      <th>100832</th>\n",
              "      <td>610</td>\n",
              "      <td>168248</td>\n",
              "      <td>5.0</td>\n",
              "    </tr>\n",
              "    <tr>\n",
              "      <th>100833</th>\n",
              "      <td>610</td>\n",
              "      <td>168250</td>\n",
              "      <td>5.0</td>\n",
              "    </tr>\n",
              "    <tr>\n",
              "      <th>100834</th>\n",
              "      <td>610</td>\n",
              "      <td>168252</td>\n",
              "      <td>5.0</td>\n",
              "    </tr>\n",
              "    <tr>\n",
              "      <th>100835</th>\n",
              "      <td>610</td>\n",
              "      <td>170875</td>\n",
              "      <td>3.0</td>\n",
              "    </tr>\n",
              "  </tbody>\n",
              "</table>\n",
              "<p>100836 rows × 3 columns</p>\n",
              "</div>"
            ],
            "text/plain": [
              "        userId  movieId  rating\n",
              "0            1        1     4.0\n",
              "1            1        3     4.0\n",
              "2            1        6     4.0\n",
              "3            1       47     5.0\n",
              "4            1       50     5.0\n",
              "...        ...      ...     ...\n",
              "100831     610   166534     4.0\n",
              "100832     610   168248     5.0\n",
              "100833     610   168250     5.0\n",
              "100834     610   168252     5.0\n",
              "100835     610   170875     3.0\n",
              "\n",
              "[100836 rows x 3 columns]"
            ]
          },
          "execution_count": 28,
          "metadata": {},
          "output_type": "execute_result"
        }
      ],
      "source": [
        "data"
      ]
    },
    {
      "cell_type": "markdown",
      "metadata": {
        "id": "TmfHgq245XEQ"
      },
      "source": [
        "Create a surprise dataset from the DataFrame"
      ]
    },
    {
      "cell_type": "code",
      "execution_count": 29,
      "metadata": {
        "id": "ijOmhgdzmCnO"
      },
      "outputs": [],
      "source": [
        "reader = Reader(rating_scale=(0.5, 5))\n",
        "data = Dataset.load_from_df(data, reader)"
      ]
    },
    {
      "cell_type": "markdown",
      "metadata": {
        "id": "IqdgtSHQ5nwb"
      },
      "source": [
        "Split the dataset into train and test sets:"
      ]
    },
    {
      "cell_type": "code",
      "execution_count": 30,
      "metadata": {
        "id": "UZ_WHfzX5ok_"
      },
      "outputs": [],
      "source": [
        "trainset, testset = train_test_split(data, test_size=0.2, random_state=142)"
      ]
    },
    {
      "cell_type": "markdown",
      "metadata": {
        "id": "FelcMPUwBd-Z"
      },
      "source": [
        "### 2.2.&nbsp;Making a model to test\n",
        "In this section, we will demonstrate the process of constructing a recommender and evaluating its effectiveness. It is advisable to experiment with diverse models and various parameters to effectively determine the optimal configuration for your final recommender system.\n",
        "\n",
        "When it comes to building recommendation models using surprise, a wealth of options and parameters are at your disposal. Surprise provides a wide range of collaborative filtering algorithms, such as Singular Value Decomposition (SVD), K-Nearest Neighbors (KNN), and Non-negative Matrix Factorization (NMF), each with its own set of configurable parameters. Whether you want to experiment with different similarity measures, adjust the number of neighbors to consider, or fine-tune regularisation parameters, surprise offers a comprehensive toolkit to explore and create models that cater to your specific requirements.\n",
        "\n",
        "In this tutorial, we will guide you through the process of creating a simple KNN model. You might notice that `sim_options`  behaves similarly to the `param_grid` we used in our supervised machine learning project. If you're eager to dive deeper into the topic, we encourage you to explore the documentation and discover more about the various options and configurations available."
      ]
    },
    {
      "cell_type": "code",
      "execution_count": 31,
      "metadata": {
        "id": "VTLxV1jsCMPH"
      },
      "outputs": [],
      "source": [
        "sim_options = {\n",
        "    'name': 'cosine',\n",
        "    'user_based': True\n",
        "}\n",
        "\n",
        "knn = KNNBasic(sim_options=sim_options)"
      ]
    },
    {
      "cell_type": "markdown",
      "metadata": {
        "id": "Ot6aiiU3CQYW"
      },
      "source": [
        "Train the algorithm on the training set:"
      ]
    },
    {
      "cell_type": "code",
      "execution_count": 32,
      "metadata": {
        "colab": {
          "base_uri": "https://localhost:8080/"
        },
        "id": "4V2R5vzeCQqJ",
        "outputId": "9f6ccef3-91e0-4954-b3d3-10438bbdf9af"
      },
      "outputs": [
        {
          "name": "stdout",
          "output_type": "stream",
          "text": [
            "Computing the cosine similarity matrix...\n",
            "Done computing similarity matrix.\n"
          ]
        },
        {
          "data": {
            "text/plain": [
              "<surprise.prediction_algorithms.knns.KNNBasic at 0x13f714550>"
            ]
          },
          "execution_count": 32,
          "metadata": {},
          "output_type": "execute_result"
        }
      ],
      "source": [
        "knn.fit(trainset)"
      ]
    },
    {
      "cell_type": "markdown",
      "metadata": {
        "id": "9AIhECyHCT3j"
      },
      "source": [
        "Make predictions on the test set:"
      ]
    },
    {
      "cell_type": "code",
      "execution_count": 33,
      "metadata": {
        "id": "TY7yvfBeCSb_"
      },
      "outputs": [],
      "source": [
        "predictions = knn.test(testset)"
      ]
    },
    {
      "cell_type": "markdown",
      "metadata": {
        "id": "t7zb7Fp5_lr9"
      },
      "source": [
        "#### 2.2.1.&nbsp;Exploring the predictions\n",
        "The predictions provide us with a list of named tuples. These named tuples are specifically created to hold the results of a prediction. They are packaged within a class primarily for documentation and printing purposes. The named tuple comprises the following parameters:\n",
        "\n",
        "- `uid`: Represents the raw user id\n",
        "- `iid`: Represents the raw item id\n",
        "- `r_ui`: Denotes the true rating provided by the user\n",
        "- `est`: Represents the estimated rating calculated by the model\n",
        "- `details`: Stores additional information about the prediction, which can be valuable for further analysis. It provides a space to include any relevant details that might enhance the understanding or interpretation of the prediction results"
      ]
    },
    {
      "cell_type": "code",
      "execution_count": 34,
      "metadata": {
        "colab": {
          "base_uri": "https://localhost:8080/"
        },
        "id": "PQDEMJmksRpz",
        "outputId": "c29d462e-6571-4b41-d1bf-12e59419eb30"
      },
      "outputs": [
        {
          "data": {
            "text/plain": [
              "[Prediction(uid=380, iid=2085, r_ui=3.0, est=3.5191062895722083, details={'actual_k': 30, 'was_impossible': False}),\n",
              " Prediction(uid=367, iid=513, r_ui=4.0, est=2.9999999999999996, details={'actual_k': 2, 'was_impossible': False}),\n",
              " Prediction(uid=570, iid=349, r_ui=4.0, est=3.7123899526005637, details={'actual_k': 40, 'was_impossible': False}),\n",
              " Prediction(uid=288, iid=2018, r_ui=3.0, est=3.391371971142089, details={'actual_k': 29, 'was_impossible': False}),\n",
              " Prediction(uid=446, iid=266, r_ui=2.0, est=3.4014122408648797, details={'actual_k': 40, 'was_impossible': False})]"
            ]
          },
          "execution_count": 34,
          "metadata": {},
          "output_type": "execute_result"
        }
      ],
      "source": [
        "predictions[:5]"
      ]
    },
    {
      "cell_type": "markdown",
      "metadata": {
        "id": "1a-4OOfDQjLt"
      },
      "source": [
        "To enhance readability, let's convert this into a DataFrame, making it more visually appealing and easier to interpret."
      ]
    },
    {
      "cell_type": "code",
      "execution_count": 35,
      "metadata": {
        "colab": {
          "base_uri": "https://localhost:8080/",
          "height": 206
        },
        "id": "96R7JvwIbOPt",
        "outputId": "adfe65f3-96bc-434b-f313-d119f77e7134"
      },
      "outputs": [
        {
          "data": {
            "text/html": [
              "<div>\n",
              "<style scoped>\n",
              "    .dataframe tbody tr th:only-of-type {\n",
              "        vertical-align: middle;\n",
              "    }\n",
              "\n",
              "    .dataframe tbody tr th {\n",
              "        vertical-align: top;\n",
              "    }\n",
              "\n",
              "    .dataframe thead th {\n",
              "        text-align: right;\n",
              "    }\n",
              "</style>\n",
              "<table border=\"1\" class=\"dataframe\">\n",
              "  <thead>\n",
              "    <tr style=\"text-align: right;\">\n",
              "      <th></th>\n",
              "      <th>raw_user_id</th>\n",
              "      <th>raw_item_id</th>\n",
              "      <th>actual_user_rating</th>\n",
              "      <th>estimated_user_rating</th>\n",
              "      <th>details</th>\n",
              "    </tr>\n",
              "  </thead>\n",
              "  <tbody>\n",
              "    <tr>\n",
              "      <th>0</th>\n",
              "      <td>380</td>\n",
              "      <td>2085</td>\n",
              "      <td>3.0</td>\n",
              "      <td>3.519106</td>\n",
              "      <td>{'actual_k': 30, 'was_impossible': False}</td>\n",
              "    </tr>\n",
              "    <tr>\n",
              "      <th>1</th>\n",
              "      <td>367</td>\n",
              "      <td>513</td>\n",
              "      <td>4.0</td>\n",
              "      <td>3.000000</td>\n",
              "      <td>{'actual_k': 2, 'was_impossible': False}</td>\n",
              "    </tr>\n",
              "    <tr>\n",
              "      <th>2</th>\n",
              "      <td>570</td>\n",
              "      <td>349</td>\n",
              "      <td>4.0</td>\n",
              "      <td>3.712390</td>\n",
              "      <td>{'actual_k': 40, 'was_impossible': False}</td>\n",
              "    </tr>\n",
              "    <tr>\n",
              "      <th>3</th>\n",
              "      <td>288</td>\n",
              "      <td>2018</td>\n",
              "      <td>3.0</td>\n",
              "      <td>3.391372</td>\n",
              "      <td>{'actual_k': 29, 'was_impossible': False}</td>\n",
              "    </tr>\n",
              "    <tr>\n",
              "      <th>4</th>\n",
              "      <td>446</td>\n",
              "      <td>266</td>\n",
              "      <td>2.0</td>\n",
              "      <td>3.401412</td>\n",
              "      <td>{'actual_k': 40, 'was_impossible': False}</td>\n",
              "    </tr>\n",
              "  </tbody>\n",
              "</table>\n",
              "</div>"
            ],
            "text/plain": [
              "   raw_user_id  raw_item_id  actual_user_rating  estimated_user_rating  \\\n",
              "0          380         2085                 3.0               3.519106   \n",
              "1          367          513                 4.0               3.000000   \n",
              "2          570          349                 4.0               3.712390   \n",
              "3          288         2018                 3.0               3.391372   \n",
              "4          446          266                 2.0               3.401412   \n",
              "\n",
              "                                     details  \n",
              "0  {'actual_k': 30, 'was_impossible': False}  \n",
              "1   {'actual_k': 2, 'was_impossible': False}  \n",
              "2  {'actual_k': 40, 'was_impossible': False}  \n",
              "3  {'actual_k': 29, 'was_impossible': False}  \n",
              "4  {'actual_k': 40, 'was_impossible': False}  "
            ]
          },
          "execution_count": 35,
          "metadata": {},
          "output_type": "execute_result"
        }
      ],
      "source": [
        "predictions_df = pd.DataFrame(predictions, columns=[\"raw_user_id\", \"raw_item_id\", \"actual_user_rating\", \"estimated_user_rating\", \"details\"])\n",
        "predictions_df.head()"
      ]
    },
    {
      "cell_type": "markdown",
      "metadata": {
        "id": "wEt26fEnBOb5"
      },
      "source": [
        "#### 2.2.2.&nbsp;Evaluation\n",
        "Evaluating recommendation systems is a crucial step in assessing their performance and effectiveness. While the ideal approach is to conduct online evaluations with real users, we often face limitations that confine us to offline evaluation methods.\n",
        "\n",
        "Surprise offers a range of evaluation metrics, including mean average error (MAE), root mean square error (RMSE), and fraction of concordant pairs (FCP). These metrics enable us to quantitatively measure the accuracy and performance of recommenders by comparing predicted ratings with actual user ratings. However, it is important to note that there are alternative methods for offline evaluation beyond these popular metrics."
      ]
    },
    {
      "cell_type": "markdown",
      "metadata": {
        "id": "6TajIynNDKbE"
      },
      "source": [
        "##### 2.2.2.1.&nbsp;Mean Absolute Error\n",
        "Mean Absolute Error (MAE) is a simple way to find out how good or bad our recommender system is at guessing the ratings that users give to books. It helps us understand how \"off\" our guesses are from the real ratings. To calculate MAE, we first find the difference between the actual rating and the estimated rating for each user and book pair. Then, we take the absolute value of these differences (which means we ignore negative signs) and find the average of all these absolute differences.\n",
        "\n",
        "Here's an example using the first row of the above DataFrame:\n",
        "\n",
        "1. Actual rating: 10.0, Estimated rating: 8.5\n",
        "2. Difference: 10.0 - 8.5 = 1.5\n",
        "3. Absolute difference: |1.5| = 1.5\n",
        "\n",
        "We repeat this process for all rows and find the average of the absolute differences. That's our Mean Absolute Error! The smaller the MAE, the better our recommender system is at guessing the ratings."
      ]
    },
    {
      "cell_type": "code",
      "execution_count": 36,
      "metadata": {
        "colab": {
          "base_uri": "https://localhost:8080/"
        },
        "id": "0P0PhSk-_CSu",
        "outputId": "d3810067-6e46-46ac-8e3f-a6b7b096a075"
      },
      "outputs": [
        {
          "name": "stdout",
          "output_type": "stream",
          "text": [
            "MAE:  0.7466\n"
          ]
        },
        {
          "data": {
            "text/plain": [
              "0.7465676186021254"
            ]
          },
          "execution_count": 36,
          "metadata": {},
          "output_type": "execute_result"
        }
      ],
      "source": [
        "accuracy.mae(predictions)"
      ]
    },
    {
      "cell_type": "markdown",
      "metadata": {
        "id": "DMy5WifNHvhn"
      },
      "source": [
        "In the context of a recommender system, a Mean Absolute Error (MAE) of 1.3811 means that, on average, the predictions made by the system are about 1.3811 units away from the actual ratings given by users. This appears to be pretty good, all of our ratings are normally only about 1 point away from where they should be."
      ]
    },
    {
      "cell_type": "markdown",
      "metadata": {
        "id": "_T3UJw8G-Gcp"
      },
      "source": [
        "##### 2.2.2.2.&nbsp;Root Mean Square Error\n",
        "Root Mean Squared Error (RMSE) is another way to find out how good our recommender system is at guessing the ratings users give to books. Like MAE, it helps us understand how \"off\" our guesses are from the real ratings. To calculate RMSE, we first find the difference between the actual rating and the estimated rating for each user and book pair. Then, we square these differences and find the average of all these squared differences. Finally, we take the square root of this average.\n",
        "\n",
        "Here's an example using the first row of your dataframe:\n",
        "\n",
        "1. Actual rating: 10.0, Estimated rating: 8.5\n",
        "2. Difference: 10.0 - 8.5 = 1.5\n",
        "3. Squared difference: 1.5 * 1.5 = 2.25\n",
        "\n",
        "We repeat this process for all rows and find the average of the squared differences, and then take the square root of that average. That's our Root Mean Squared Error! The smaller the RMSE, the better our recommender system is at guessing the ratings. RMSE is more sensitive to large errors than MAE because it squares the differences, so it \"punishes\" bigger errors more than MAE does."
      ]
    },
    {
      "cell_type": "code",
      "execution_count": 37,
      "metadata": {
        "colab": {
          "base_uri": "https://localhost:8080/"
        },
        "id": "PlQtmcvP77nY",
        "outputId": "f5dae65d-a932-4862-a56a-e35376056b34"
      },
      "outputs": [
        {
          "name": "stdout",
          "output_type": "stream",
          "text": [
            "RMSE: 0.9706\n"
          ]
        },
        {
          "data": {
            "text/plain": [
              "0.9706404973871133"
            ]
          },
          "execution_count": 37,
          "metadata": {},
          "output_type": "execute_result"
        }
      ],
      "source": [
        "accuracy.rmse(predictions)"
      ]
    },
    {
      "cell_type": "markdown",
      "metadata": {
        "id": "ujJsrdq-G6a6"
      },
      "source": [
        "##### 2.2.2.3.&nbsp;Fraction of Concordant Pairs\n",
        "Fraction of Concordant Pairs (FCP) is a way to find out how good our recommender system is at ranking books by comparing pairs of actual ratings and estimated ratings. It helps us understand if our recommender system is correctly ranking books for users. To calculate FCP, we first create pairs of actual ratings and estimated ratings for each user. Then, we count the number of pairs where the relative order of the ratings is the same. This means that if a user rated book A higher than book B, our recommender system should also estimate that the user would rate book A higher than book B. These pairs are called \"concordant pairs\".\n",
        "\n",
        "Now, we'll divide the number of concordant pairs by the total number of pairs. That's our Fraction of Concordant Pairs! The higher the FCP, the better our recommender system is at ranking books for users. Unlike MAE and RMSE, which focus on the differences between actual and estimated ratings, FCP focuses on the relative order of the ratings."
      ]
    },
    {
      "cell_type": "code",
      "execution_count": 38,
      "metadata": {
        "colab": {
          "base_uri": "https://localhost:8080/"
        },
        "id": "p3iQX6gvBnL9",
        "outputId": "a1caf1e6-9af0-45c1-a9bf-4597dcf73fe7"
      },
      "outputs": [
        {
          "name": "stdout",
          "output_type": "stream",
          "text": [
            "FCP:  0.6685\n"
          ]
        },
        {
          "data": {
            "text/plain": [
              "0.6684847446082518"
            ]
          },
          "execution_count": 38,
          "metadata": {},
          "output_type": "execute_result"
        }
      ],
      "source": [
        "accuracy.fcp(predictions)"
      ]
    },
    {
      "cell_type": "markdown",
      "metadata": {
        "id": "Y5cqTdGpIgrk"
      },
      "source": [
        "> **Note:** the combination of a low Fraction of Concordant Pairs (FCP) and a good Root Mean Square Error (RMSE) should raise our awareness that the RMSE alone may not accurately reflect the effectiveness of the recommender. This observation prompts us to delve deeper into the analysis and explore additional factors. To conduct a comprehensive evaluation of the recommender, it is advisable to combine both manual and pre-made evaluation methods."
      ]
    },
    {
      "cell_type": "markdown",
      "metadata": {
        "id": "cH5GAjg2peJF"
      },
      "source": [
        "##### 2.2.2.4.&nbsp;The manual approach\n",
        "In our exploration of supervised machine learning, we examined a histogram of errors and a scatterplot of errors. Here, we will employ a similar approach. We'll begin by analysing a histogram of errors, but we'll replace the scatterplot with a box plot. Given the discrete nature of the data, using a scatterplot results in dots forming lines and overlapping, providing limited insight into density. To gain a better understanding of density and variance, we'll utilise a box plot instead."
      ]
    },
    {
      "cell_type": "markdown",
      "metadata": {
        "id": "w5rnjNe4s7fh"
      },
      "source": [
        "###### Histogram of errors\n",
        "To generate a histogram of errors and a scatterplot of errors, we must initially calculate the difference between the actual and predicted ratings — this difference is referred to as the \"error.\""
      ]
    },
    {
      "cell_type": "code",
      "execution_count": 39,
      "metadata": {
        "id": "JTw1trqBRcNX"
      },
      "outputs": [],
      "source": [
        "predictions_df[\"difference\"] = predictions_df[\"actual_user_rating\"] - predictions_df[\"estimated_user_rating\"]"
      ]
    },
    {
      "cell_type": "code",
      "execution_count": 40,
      "metadata": {
        "colab": {
          "base_uri": "https://localhost:8080/",
          "height": 676
        },
        "id": "LPLyDhC59JqT",
        "outputId": "c2eaba20-c92a-45c3-dfd6-22b803c2a757"
      },
      "outputs": [
        {
          "data": {
            "image/png": "[encoded data removed]",
            "text/plain": [
              "<Figure size 1000x800 with 1 Axes>"
            ]
          },
          "metadata": {},
          "output_type": "display_data"
        }
      ],
      "source": [
        "predictions_df[\"difference\"].hist(bins=30,\n",
        "                                  figsize=(10, 8));"
      ]
    },
    {
      "cell_type": "markdown",
      "metadata": {
        "id": "iSw9k7jeTdZQ"
      },
      "source": [
        "Our model displays a left skew, suggesting that it tends to overestimate ratings to a greater extent than underestimating them. It could be intriguing to experiment with various parameters and observe their impact on this behavior. However, it doesn't tell us a great deal about the discord between our FCP and RMSE, so let's take a look at the boxplot."
      ]
    },
    {
      "cell_type": "markdown",
      "metadata": {
        "id": "Mc1IlESfv73x"
      },
      "source": [
        "###### Boxplot of errors"
      ]
    },
    {
      "cell_type": "code",
      "execution_count": 41,
      "metadata": {
        "colab": {
          "base_uri": "https://localhost:8080/",
          "height": 699
        },
        "id": "d_z0joyl8-zq",
        "outputId": "b69ae6d0-8848-485b-a045-3f00d3b20975"
      },
      "outputs": [
        {
          "data": {
            "image/png": "[encoded data removed]",
            "text/plain": [
              "<Figure size 1000x800 with 1 Axes>"
            ]
          },
          "metadata": {},
          "output_type": "display_data"
        }
      ],
      "source": [
        "predictions_df.plot(kind='box',\n",
        "                    column='estimated_user_rating',\n",
        "                    by='actual_user_rating',\n",
        "                    figsize=(10, 8));"
      ]
    },
    {
      "cell_type": "markdown",
      "metadata": {
        "id": "W8buxbr7ZNhf"
      },
      "source": [
        "Irrespective of the actual rating, it is evident that the median predicted rating for each category consistently centres around 8. This observation sheds light on why we obtained a seemingly good Root Mean Squared Error (RMSE), despite the recommender system performing poorly in predicting low values. As we discovered during our data exploration in the popularity recommender notebook, most users tend to provide generous ratings, with the majority falling within the range of 7-9. It appears that our recommender system is consistently predicting a rating of 8, aligning with the abundance of ratings clustered around this value. While this may contribute to a favourable RMSE, it indicates a lack of nuance and adaptability in our recommender system, as it tends to generalise and treat all items uniformly."
      ]
    },
    {
      "cell_type": "markdown",
      "metadata": {
        "id": "h0WfxnoZyHrA"
      },
      "source": [
        "### 2.3.&nbsp; Making a model to use\n",
        "After identifying your preferred model and parameters, you can construct a recommender using the entire dataset.\n",
        "\n",
        "To illustrate the process of creating a recommender using Surprise, we'll make a quick example of how to get the top n recommendations for a user. Feel encouraged to modify and tailor the code to suit your specific requirements.\n",
        "\n",
        "Our objective is to generate predictions for items that the user has not yet rated, leveraging the patterns observed from the items they have rated. To achieve this, we utilise the `build_full_trainset()` method. This method constructs a comprehensive training set encompassing all user-item ratings."
      ]
    },
    {
      "cell_type": "code",
      "execution_count": 42,
      "metadata": {
        "id": "LmXMPimAyXQn"
      },
      "outputs": [
        {
          "name": "stdout",
          "output_type": "stream",
          "text": [
            "Computing the cosine similarity matrix...\n",
            "Done computing similarity matrix.\n"
          ]
        },
        {
          "data": {
            "text/plain": [
              "<surprise.prediction_algorithms.knns.KNNBasic at 0x13df27610>"
            ]
          },
          "execution_count": 42,
          "metadata": {},
          "output_type": "execute_result"
        }
      ],
      "source": [
        "sim_options = {\n",
        "    'name': 'cosine',\n",
        "    'user_based': True\n",
        "}\n",
        "\n",
        "full_train = data.build_full_trainset()\n",
        "algo = KNNBasic(sim_options=sim_options)\n",
        "algo.fit(trainset)"
      ]
    },
    {
      "cell_type": "markdown",
      "metadata": {
        "id": "ETlzPaCK6Te-"
      },
      "source": [
        "When using `build_full_trainset`, we pair it with `build_anti_testset()`. This method creates a test set for predicting items that users haven't rated yet. It simulates scenarios where the recommendation system suggests new items to users."
      ]
    },
    {
      "cell_type": "code",
      "execution_count": 43,
      "metadata": {
        "id": "7WDXLXAeyiMc"
      },
      "outputs": [],
      "source": [
        "testset = trainset.build_anti_testset()\n",
        "predictions = algo.test(testset)"
      ]
    },
    {
      "cell_type": "markdown",
      "metadata": {
        "id": "nZJcirkGV-Qy"
      },
      "source": [
        "Next, let's create a function that will provide the top n recommendations for a specified user."
      ]
    },
    {
      "cell_type": "code",
      "execution_count": 44,
      "metadata": {
        "id": "f4FKTyVSWMGy"
      },
      "outputs": [],
      "source": [
        "def get_top_n(predictions, user_id, n=10):\n",
        "\n",
        "  user_recommendations = []\n",
        "\n",
        "  # Iterate through each prediction tuple\n",
        "  for uid, iid, true_r, est, _ in predictions:\n",
        "    # Check if the user ID matches the target user\n",
        "    if user_id == uid:\n",
        "      # Append item_id and estimated_rating to the user_recommendations list\n",
        "      user_recommendations.append((iid, est))\n",
        "    else:\n",
        "      # Skip to the next prediction if user ID doesn't match\n",
        "      continue\n",
        "\n",
        "  # Sort the user_recommendations list based on estimated_rating in descending order\n",
        "  ordered_recommendations = sorted(user_recommendations, key=lambda x: x[1], reverse=True)\n",
        "\n",
        "  # Get the top n predictions from the ordered_recommendations\n",
        "  ordered_recommendations_top_n = ordered_recommendations[:n]\n",
        "\n",
        "  return ordered_recommendations_top_n"
      ]
    },
    {
      "cell_type": "markdown",
      "metadata": {
        "id": "eZkP_uHxmW_w"
      },
      "source": [
        "Let's see if the function works 👀"
      ]
    },
    {
      "cell_type": "code",
      "execution_count": 48,
      "metadata": {},
      "outputs": [
        {
          "data": {
            "text/html": [
              "<div>\n",
              "<style scoped>\n",
              "    .dataframe tbody tr th:only-of-type {\n",
              "        vertical-align: middle;\n",
              "    }\n",
              "\n",
              "    .dataframe tbody tr th {\n",
              "        vertical-align: top;\n",
              "    }\n",
              "\n",
              "    .dataframe thead th {\n",
              "        text-align: right;\n",
              "    }\n",
              "</style>\n",
              "<table border=\"1\" class=\"dataframe\">\n",
              "  <thead>\n",
              "    <tr style=\"text-align: right;\">\n",
              "      <th></th>\n",
              "      <th>userId</th>\n",
              "      <th>movieId</th>\n",
              "      <th>rating</th>\n",
              "      <th>timestamp</th>\n",
              "    </tr>\n",
              "  </thead>\n",
              "  <tbody>\n",
              "    <tr>\n",
              "      <th>0</th>\n",
              "      <td>1</td>\n",
              "      <td>1</td>\n",
              "      <td>4.0</td>\n",
              "      <td>964982703</td>\n",
              "    </tr>\n",
              "    <tr>\n",
              "      <th>1</th>\n",
              "      <td>1</td>\n",
              "      <td>3</td>\n",
              "      <td>4.0</td>\n",
              "      <td>964981247</td>\n",
              "    </tr>\n",
              "    <tr>\n",
              "      <th>2</th>\n",
              "      <td>1</td>\n",
              "      <td>6</td>\n",
              "      <td>4.0</td>\n",
              "      <td>964982224</td>\n",
              "    </tr>\n",
              "    <tr>\n",
              "      <th>3</th>\n",
              "      <td>1</td>\n",
              "      <td>47</td>\n",
              "      <td>5.0</td>\n",
              "      <td>964983815</td>\n",
              "    </tr>\n",
              "    <tr>\n",
              "      <th>4</th>\n",
              "      <td>1</td>\n",
              "      <td>50</td>\n",
              "      <td>5.0</td>\n",
              "      <td>964982931</td>\n",
              "    </tr>\n",
              "  </tbody>\n",
              "</table>\n",
              "</div>"
            ],
            "text/plain": [
              "   userId  movieId  rating  timestamp\n",
              "0       1        1     4.0  964982703\n",
              "1       1        3     4.0  964981247\n",
              "2       1        6     4.0  964982224\n",
              "3       1       47     5.0  964983815\n",
              "4       1       50     5.0  964982931"
            ]
          },
          "execution_count": 48,
          "metadata": {},
          "output_type": "execute_result"
        }
      ],
      "source": [
        "rating.head(5)"
      ]
    },
    {
      "cell_type": "code",
      "execution_count": 65,
      "metadata": {
        "id": "EWpSOyBzWlVM"
      },
      "outputs": [
        {
          "data": {
            "text/plain": [
              "[(6021, 5),\n",
              " (3303, 5),\n",
              " (173619, 5),\n",
              " (3939, 5),\n",
              " (98279, 5),\n",
              " (3851, 5),\n",
              " (26849, 5),\n",
              " (147328, 5),\n",
              " (5181, 5),\n",
              " (47736, 5)]"
            ]
          },
          "execution_count": 65,
          "metadata": {},
          "output_type": "execute_result"
        }
      ],
      "source": [
        "user_id = 100\n",
        "n = 10\n",
        "\n",
        "top_n = get_top_n(predictions, user_id, n)\n",
        "top_n"
      ]
    },
    {
      "cell_type": "markdown",
      "metadata": {
        "id": "87GaYnMXmW_w"
      },
      "source": [
        "Success! 🎉 Now, our final task is to match the ISBNs in the tuples with their respective book titles and other relevant information."
      ]
    },
    {
      "cell_type": "code",
      "execution_count": 64,
      "metadata": {
        "id": "IaozMUppmW_w"
      },
      "outputs": [
        {
          "data": {
            "text/html": [
              "<div>\n",
              "<style scoped>\n",
              "    .dataframe tbody tr th:only-of-type {\n",
              "        vertical-align: middle;\n",
              "    }\n",
              "\n",
              "    .dataframe tbody tr th {\n",
              "        vertical-align: top;\n",
              "    }\n",
              "\n",
              "    .dataframe thead th {\n",
              "        text-align: right;\n",
              "    }\n",
              "</style>\n",
              "<table border=\"1\" class=\"dataframe\">\n",
              "  <thead>\n",
              "    <tr style=\"text-align: right;\">\n",
              "      <th></th>\n",
              "      <th>movieId</th>\n",
              "      <th>title</th>\n",
              "      <th>genres</th>\n",
              "    </tr>\n",
              "  </thead>\n",
              "  <tbody>\n",
              "    <tr>\n",
              "      <th>0</th>\n",
              "      <td>6021</td>\n",
              "      <td>American Friend, The (Amerikanische Freund, De...</td>\n",
              "      <td>Crime|Drama|Mystery|Thriller</td>\n",
              "    </tr>\n",
              "    <tr>\n",
              "      <th>1</th>\n",
              "      <td>3303</td>\n",
              "      <td>Black Tar Heroin: The Dark End of the Street (...</td>\n",
              "      <td>Documentary</td>\n",
              "    </tr>\n",
              "    <tr>\n",
              "      <th>2</th>\n",
              "      <td>173619</td>\n",
              "      <td>Fugitives (1986)</td>\n",
              "      <td>Comedy|Crime</td>\n",
              "    </tr>\n",
              "    <tr>\n",
              "      <th>3</th>\n",
              "      <td>3939</td>\n",
              "      <td>Slumber Party Massacre II (1987)</td>\n",
              "      <td>Horror</td>\n",
              "    </tr>\n",
              "    <tr>\n",
              "      <th>4</th>\n",
              "      <td>98279</td>\n",
              "      <td>Fantastic Fear of Everything, A (2012)</td>\n",
              "      <td>Comedy</td>\n",
              "    </tr>\n",
              "    <tr>\n",
              "      <th>5</th>\n",
              "      <td>3851</td>\n",
              "      <td>I'm the One That I Want (2000)</td>\n",
              "      <td>Comedy</td>\n",
              "    </tr>\n",
              "    <tr>\n",
              "      <th>6</th>\n",
              "      <td>26849</td>\n",
              "      <td>Stand, The (1994)</td>\n",
              "      <td>Adventure|Drama|Fantasy|Horror|Sci-Fi</td>\n",
              "    </tr>\n",
              "    <tr>\n",
              "      <th>7</th>\n",
              "      <td>147328</td>\n",
              "      <td>The Adventures of Sherlock Holmes and Dr. Wats...</td>\n",
              "      <td>Crime</td>\n",
              "    </tr>\n",
              "    <tr>\n",
              "      <th>8</th>\n",
              "      <td>5181</td>\n",
              "      <td>Hangar 18 (1980)</td>\n",
              "      <td>Action|Sci-Fi|Thriller</td>\n",
              "    </tr>\n",
              "    <tr>\n",
              "      <th>9</th>\n",
              "      <td>47736</td>\n",
              "      <td>Chump at Oxford, A (1940)</td>\n",
              "      <td>Comedy</td>\n",
              "    </tr>\n",
              "  </tbody>\n",
              "</table>\n",
              "</div>"
            ],
            "text/plain": [
              "   movieId                                              title  \\\n",
              "0     6021  American Friend, The (Amerikanische Freund, De...   \n",
              "1     3303  Black Tar Heroin: The Dark End of the Street (...   \n",
              "2   173619                                   Fugitives (1986)   \n",
              "3     3939                   Slumber Party Massacre II (1987)   \n",
              "4    98279             Fantastic Fear of Everything, A (2012)   \n",
              "5     3851                     I'm the One That I Want (2000)   \n",
              "6    26849                                  Stand, The (1994)   \n",
              "7   147328  The Adventures of Sherlock Holmes and Dr. Wats...   \n",
              "8     5181                                   Hangar 18 (1980)   \n",
              "9    47736                          Chump at Oxford, A (1940)   \n",
              "\n",
              "                                  genres  \n",
              "0           Crime|Drama|Mystery|Thriller  \n",
              "1                            Documentary  \n",
              "2                           Comedy|Crime  \n",
              "3                                 Horror  \n",
              "4                                 Comedy  \n",
              "5                                 Comedy  \n",
              "6  Adventure|Drama|Fantasy|Horror|Sci-Fi  \n",
              "7                                  Crime  \n",
              "8                 Action|Sci-Fi|Thriller  \n",
              "9                                 Comedy  "
            ]
          },
          "execution_count": 64,
          "metadata": {},
          "output_type": "execute_result"
        }
      ],
      "source": [
        "# Creating a DataFrame from the top_n tuples with columns 'book_isbn' and 'estimated_rating'\n",
        "tuples_df = pd.DataFrame(top_n, columns=[\"movieId\", \"estimated_rating\"])\n",
        "\n",
        "# Creating a copy of the original DataFrame with duplicate 'book_isbn' entries removed\n",
        "reduced_df = movies.drop_duplicates(subset='movieId').copy()\n",
        "\n",
        "# Merging the tuples_df with the reduced_df based on 'book_isbn', retaining only the matching rows\n",
        "tuples_df_expanded = tuples_df.merge(reduced_df, on=\"movieId\", how='left')\n",
        "\n",
        "# Selecting specific columns from the merged DataFrame to include in the final result\n",
        "tuples_df_expanded = tuples_df_expanded[['movieId', 'title', 'genres']]\n",
        "\n",
        "# Displaying the expanded DataFrame with relevant book information\n",
        "tuples_df_expanded"
      ]
    },
    {
      "cell_type": "code",
      "execution_count": 79,
      "metadata": {},
      "outputs": [],
      "source": [
        "def predictions_list(user_id_2, n_2):\n",
        "\n",
        "    user_id = user_id_2\n",
        "    n = n_2\n",
        "    \n",
        "    top_n = get_top_n(predictions, user_id, n)\n",
        "    # Creating a DataFrame from the top_n tuples with columns 'movieId' and 'estimated_rating'\n",
        "    tuples_df = pd.DataFrame(top_n, columns=[\"movieId\", \"estimated_rating\"])\n",
        "\n",
        "    # Creating a copy of the original DataFrame with duplicate 'movieId' entries removed\n",
        "    reduced_df = movies.drop_duplicates(subset='movieId').copy()\n",
        "\n",
        "    # Merging the tuples_df with the reduced_df based on 'movieId', retaining only the matching rows\n",
        "    tuples_df_expanded = tuples_df.merge(reduced_df, on=\"movieId\", how='left')\n",
        "\n",
        "    # Selecting specific columns from the merged DataFrame to include in the final result\n",
        "    tuples_df_expanded = tuples_df_expanded[['movieId', 'title', 'genres']]\n",
        "    return tuples_df_expanded\n",
        "    "
      ]
    },
    {
      "cell_type": "code",
      "execution_count": 84,
      "metadata": {},
      "outputs": [
        {
          "data": {
            "text/html": [
              "<div>\n",
              "<style scoped>\n",
              "    .dataframe tbody tr th:only-of-type {\n",
              "        vertical-align: middle;\n",
              "    }\n",
              "\n",
              "    .dataframe tbody tr th {\n",
              "        vertical-align: top;\n",
              "    }\n",
              "\n",
              "    .dataframe thead th {\n",
              "        text-align: right;\n",
              "    }\n",
              "</style>\n",
              "<table border=\"1\" class=\"dataframe\">\n",
              "  <thead>\n",
              "    <tr style=\"text-align: right;\">\n",
              "      <th></th>\n",
              "      <th>movieId</th>\n",
              "      <th>title</th>\n",
              "      <th>genres</th>\n",
              "    </tr>\n",
              "  </thead>\n",
              "  <tbody>\n",
              "    <tr>\n",
              "      <th>0</th>\n",
              "      <td>6021</td>\n",
              "      <td>American Friend, The (Amerikanische Freund, De...</td>\n",
              "      <td>Crime|Drama|Mystery|Thriller</td>\n",
              "    </tr>\n",
              "    <tr>\n",
              "      <th>1</th>\n",
              "      <td>3303</td>\n",
              "      <td>Black Tar Heroin: The Dark End of the Street (...</td>\n",
              "      <td>Documentary</td>\n",
              "    </tr>\n",
              "    <tr>\n",
              "      <th>2</th>\n",
              "      <td>173619</td>\n",
              "      <td>Fugitives (1986)</td>\n",
              "      <td>Comedy|Crime</td>\n",
              "    </tr>\n",
              "    <tr>\n",
              "      <th>3</th>\n",
              "      <td>3939</td>\n",
              "      <td>Slumber Party Massacre II (1987)</td>\n",
              "      <td>Horror</td>\n",
              "    </tr>\n",
              "    <tr>\n",
              "      <th>4</th>\n",
              "      <td>98279</td>\n",
              "      <td>Fantastic Fear of Everything, A (2012)</td>\n",
              "      <td>Comedy</td>\n",
              "    </tr>\n",
              "    <tr>\n",
              "      <th>5</th>\n",
              "      <td>3851</td>\n",
              "      <td>I'm the One That I Want (2000)</td>\n",
              "      <td>Comedy</td>\n",
              "    </tr>\n",
              "    <tr>\n",
              "      <th>6</th>\n",
              "      <td>26849</td>\n",
              "      <td>Stand, The (1994)</td>\n",
              "      <td>Adventure|Drama|Fantasy|Horror|Sci-Fi</td>\n",
              "    </tr>\n",
              "    <tr>\n",
              "      <th>7</th>\n",
              "      <td>44943</td>\n",
              "      <td>9/11 (2002)</td>\n",
              "      <td>Documentary</td>\n",
              "    </tr>\n",
              "    <tr>\n",
              "      <th>8</th>\n",
              "      <td>147328</td>\n",
              "      <td>The Adventures of Sherlock Holmes and Dr. Wats...</td>\n",
              "      <td>Crime</td>\n",
              "    </tr>\n",
              "    <tr>\n",
              "      <th>9</th>\n",
              "      <td>5181</td>\n",
              "      <td>Hangar 18 (1980)</td>\n",
              "      <td>Action|Sci-Fi|Thriller</td>\n",
              "    </tr>\n",
              "  </tbody>\n",
              "</table>\n",
              "</div>"
            ],
            "text/plain": [
              "   movieId                                              title  \\\n",
              "0     6021  American Friend, The (Amerikanische Freund, De...   \n",
              "1     3303  Black Tar Heroin: The Dark End of the Street (...   \n",
              "2   173619                                   Fugitives (1986)   \n",
              "3     3939                   Slumber Party Massacre II (1987)   \n",
              "4    98279             Fantastic Fear of Everything, A (2012)   \n",
              "5     3851                     I'm the One That I Want (2000)   \n",
              "6    26849                                  Stand, The (1994)   \n",
              "7    44943                                        9/11 (2002)   \n",
              "8   147328  The Adventures of Sherlock Holmes and Dr. Wats...   \n",
              "9     5181                                   Hangar 18 (1980)   \n",
              "\n",
              "                                  genres  \n",
              "0           Crime|Drama|Mystery|Thriller  \n",
              "1                            Documentary  \n",
              "2                           Comedy|Crime  \n",
              "3                                 Horror  \n",
              "4                                 Comedy  \n",
              "5                                 Comedy  \n",
              "6  Adventure|Drama|Fantasy|Horror|Sci-Fi  \n",
              "7                            Documentary  \n",
              "8                                  Crime  \n",
              "9                 Action|Sci-Fi|Thriller  "
            ]
          },
          "execution_count": 84,
          "metadata": {},
          "output_type": "execute_result"
        }
      ],
      "source": [
        "predictions_list(500 ,10)"
      ]
    },
    {
      "cell_type": "markdown",
      "metadata": {
        "id": "BUDOHeO812l6"
      },
      "source": [
        "---\n",
        "## 3.&nbsp;Challenge: build a surprise recommender 😃\n",
        "Use the skills that you've learnt in this notebook to build a recommender for your movie dataset using surprise. Use the [surprise docs](https://surpriselib.com/) to try out other recommenders and other parameters. Be creative and have fun 😃"
      ]
    },
    {
      "cell_type": "code",
      "execution_count": null,
      "metadata": {
        "id": "nbq7CVql2UuH"
      },
      "outputs": [],
      "source": []
    }
  ],
  "metadata": {
    "colab": {
      "provenance": []
    },
    "kernelspec": {
      "display_name": "Python 3",
      "name": "python3"
    },
    "language_info": {
      "codemirror_mode": {
        "name": "ipython",
        "version": 3
      },
      "file_extension": ".py",
      "mimetype": "text/x-python",
      "name": "python",
      "nbconvert_exporter": "python",
      "pygments_lexer": "ipython3",
      "version": "3.11.2"
    }
  },
  "nbformat": 4,
  "nbformat_minor": 0
}
