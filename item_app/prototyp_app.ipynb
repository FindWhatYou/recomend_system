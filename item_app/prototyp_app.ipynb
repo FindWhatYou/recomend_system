{
 "cells": [
  {
   "cell_type": "code",
   "execution_count": 19,
   "metadata": {},
   "outputs": [],
   "source": [
    "import pandas as pd\n",
    "import pickle"
   ]
  },
  {
   "cell_type": "markdown",
   "metadata": {},
   "source": [
    "# Load matrix"
   ]
  },
  {
   "cell_type": "code",
   "execution_count": 20,
   "metadata": {},
   "outputs": [],
   "source": [
    "#movie_cosine_matrix = pickle.load(open(\"./books_cosines_matrix.sav\", \"rb\"))"
   ]
  },
  {
   "cell_type": "markdown",
   "metadata": {},
   "source": [
    "# Calculate"
   ]
  },
  {
   "cell_type": "code",
   "execution_count": 21,
   "metadata": {},
   "outputs": [],
   "source": [
    "def gd_path(file_id):\n",
    "    return f\"https://drive.google.com/uc?export=download&id={file_id}\"\n",
    "\n",
    "\n",
    "files_id = {\n",
    "    'rating': \"1F4_-HBPBSySMjxdGxlykWVjvVn9AJ0BS\",\n",
    "    'movies': \"1PDuCaAhhVTRLYdftMr6VqX23crMqB_qg\",\n",
    "    }\n",
    "\n",
    "rating = pd.read_csv(gd_path(files_id['rating']), sep=\",\")\n",
    "movies = pd.read_csv(gd_path(files_id['movies']), sep=\",\")\n"
   ]
  },
  {
   "cell_type": "code",
   "execution_count": 22,
   "metadata": {},
   "outputs": [],
   "source": [
    "user_movie_matrix = pd.pivot_table(data=rating,\n",
    "                                  values='rating',\n",
    "                                  index='userId',\n",
    "                                  columns='movieId',\n",
    "                                  fill_value=0)"
   ]
  },
  {
   "cell_type": "code",
   "execution_count": 23,
   "metadata": {},
   "outputs": [],
   "source": [
    "from sklearn.metrics.pairwise import cosine_similarity\n",
    "\n",
    "\n",
    "movies_cosines_matrix = pd.DataFrame(cosine_similarity(user_movie_matrix.T),\n",
    "                                    columns=user_movie_matrix.columns,\n",
    "                                    index=user_movie_matrix.columns)"
   ]
  },
  {
   "cell_type": "code",
   "execution_count": 24,
   "metadata": {},
   "outputs": [],
   "source": [
    "lovely_bones_title_mask = movies[\"title\"].str.contains('Toy Story', case=False)\n",
    "lovely_bones_author_mask = movies[\"genres\"].str.contains('Comedy', case=False)\n",
    "lovely_bones_isbn = movies.loc[lovely_bones_title_mask & lovely_bones_author_mask, \"movieId\"].values[0]\n",
    "\n",
    "# Select the column, from the above matrix, matching the movieId of Toy Story\n",
    "lovely_bones_correlations_df = pd.DataFrame(movies_cosines_matrix[lovely_bones_isbn])"
   ]
  },
  {
   "cell_type": "code",
   "execution_count": 26,
   "metadata": {},
   "outputs": [
    {
     "data": {
      "text/html": [
       "<div>\n",
       "<style scoped>\n",
       "    .dataframe tbody tr th:only-of-type {\n",
       "        vertical-align: middle;\n",
       "    }\n",
       "\n",
       "    .dataframe tbody tr th {\n",
       "        vertical-align: top;\n",
       "    }\n",
       "\n",
       "    .dataframe thead th {\n",
       "        text-align: right;\n",
       "    }\n",
       "</style>\n",
       "<table border=\"1\" class=\"dataframe\">\n",
       "  <thead>\n",
       "    <tr style=\"text-align: right;\">\n",
       "      <th></th>\n",
       "      <th>lovely_bones_cosine</th>\n",
       "      <th>users_who_rated_both_movies</th>\n",
       "    </tr>\n",
       "    <tr>\n",
       "      <th>movieId</th>\n",
       "      <th></th>\n",
       "      <th></th>\n",
       "    </tr>\n",
       "  </thead>\n",
       "  <tbody>\n",
       "    <tr>\n",
       "      <th>3114</th>\n",
       "      <td>0.572601</td>\n",
       "      <td>81</td>\n",
       "    </tr>\n",
       "    <tr>\n",
       "      <th>480</th>\n",
       "      <td>0.565637</td>\n",
       "      <td>132</td>\n",
       "    </tr>\n",
       "    <tr>\n",
       "      <th>780</th>\n",
       "      <td>0.564262</td>\n",
       "      <td>122</td>\n",
       "    </tr>\n",
       "    <tr>\n",
       "      <th>260</th>\n",
       "      <td>0.557388</td>\n",
       "      <td>134</td>\n",
       "    </tr>\n",
       "    <tr>\n",
       "      <th>356</th>\n",
       "      <td>0.547096</td>\n",
       "      <td>154</td>\n",
       "    </tr>\n",
       "    <tr>\n",
       "      <th>364</th>\n",
       "      <td>0.541145</td>\n",
       "      <td>107</td>\n",
       "    </tr>\n",
       "    <tr>\n",
       "      <th>1210</th>\n",
       "      <td>0.541089</td>\n",
       "      <td>116</td>\n",
       "    </tr>\n",
       "    <tr>\n",
       "      <th>648</th>\n",
       "      <td>0.538913</td>\n",
       "      <td>106</td>\n",
       "    </tr>\n",
       "    <tr>\n",
       "      <th>1265</th>\n",
       "      <td>0.534169</td>\n",
       "      <td>97</td>\n",
       "    </tr>\n",
       "    <tr>\n",
       "      <th>1270</th>\n",
       "      <td>0.530381</td>\n",
       "      <td>106</td>\n",
       "    </tr>\n",
       "  </tbody>\n",
       "</table>\n",
       "</div>"
      ],
      "text/plain": [
       "         lovely_bones_cosine  users_who_rated_both_movies\n",
       "movieId                                                  \n",
       "3114                0.572601                           81\n",
       "480                 0.565637                          132\n",
       "780                 0.564262                          122\n",
       "260                 0.557388                          134\n",
       "356                 0.547096                          154\n",
       "364                 0.541145                          107\n",
       "1210                0.541089                          116\n",
       "648                 0.538913                          106\n",
       "1265                0.534169                           97\n",
       "1270                0.530381                          106"
      ]
     },
     "execution_count": 26,
     "metadata": {},
     "output_type": "execute_result"
    }
   ],
   "source": [
    "lovely_bones_cosines_df = pd.DataFrame(movies_cosines_matrix[lovely_bones_isbn])\n",
    "\n",
    "# Rename the column 'lovely_bones_isbn' to 'lovely_bones_cosine'\n",
    "lovely_bones_cosines_df = lovely_bones_cosines_df.rename(columns={lovely_bones_isbn: 'lovely_bones_cosine'})\n",
    "\n",
    "# Remove the row with the index 'lovely_bones_isbn'\n",
    "lovely_bones_cosines_df = lovely_bones_cosines_df[lovely_bones_cosines_df.index != lovely_bones_isbn]\n",
    "\n",
    "# Sort the 'lovely_bones_cosines_df' by the column 'lovely_bones_cosine' column in descending order.\n",
    "lovely_bones_cosines_df = lovely_bones_cosines_df.sort_values(by=\"lovely_bones_cosine\", ascending=False)\n",
    "\n",
    "# Find out the number of users rated both The Lovely Bones and the other book\n",
    "no_of_users_rated_both_books = [sum((user_movie_matrix[lovely_bones_isbn] > 0) & (user_movie_matrix[isbn] > 0)) for isbn in lovely_bones_cosines_df.index]\n",
    "\n",
    "# Create a column for the number of users who rated The Lovely Bones and the other book\n",
    "lovely_bones_cosines_df['users_who_rated_both_movies'] = no_of_users_rated_both_books\n",
    "\n",
    "# Remove recommendations that have less than 10 users who rated both books.\n",
    "lovely_bones_cosines_df = lovely_bones_cosines_df[lovely_bones_cosines_df[\"users_who_rated_both_movies\"] > 10]\n",
    "\n",
    "# Display the first 10 rows of the 'lovely_bones_cosines_df' DataFrame.\n",
    "lovely_bones_cosines_df.head(10)"
   ]
  }
 ],
 "metadata": {
  "kernelspec": {
   "display_name": "Python 3",
   "language": "python",
   "name": "python3"
  },
  "language_info": {
   "codemirror_mode": {
    "name": "ipython",
    "version": 3
   },
   "file_extension": ".py",
   "mimetype": "text/x-python",
   "name": "python",
   "nbconvert_exporter": "python",
   "pygments_lexer": "ipython3",
   "version": "3.11.2"
  },
  "orig_nbformat": 4
 },
 "nbformat": 4,
 "nbformat_minor": 2
}
